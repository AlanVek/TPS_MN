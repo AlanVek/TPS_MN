{
 "cells": [
  {
   "cell_type": "code",
   "execution_count": null,
   "id": "62513f5c-ad6c-4d02-a330-c6cfb27fa8c0",
   "metadata": {},
   "outputs": [],
   "source": [
    "from scipy.signal import lfilter, lfilter_zi\n",
    "import numpy as np\n",
    "import pyaudio as pa\n",
    "from scipy.io import wavfile"
   ]
  },
  {
   "cell_type": "code",
   "execution_count": null,
   "id": "40865431-cec4-49a0-b881-7f17c162a31c",
   "metadata": {},
   "outputs": [],
   "source": [
    "def tofloat32(x): return (x / np.abs(x).max()).astype(np.float32)"
   ]
  },
  {
   "cell_type": "code",
   "execution_count": null,
   "id": "0ad7898f-a997-4f2a-9190-3e2a47e95321",
   "metadata": {},
   "outputs": [],
   "source": [
    "fs, data = wavfile.read('GOT.wav')\n",
    "y = tofloat32(data)"
   ]
  },
  {
   "cell_type": "code",
   "execution_count": null,
   "id": "22306930-be8e-43af-9b05-b1a27d1ddb50",
   "metadata": {},
   "outputs": [],
   "source": [
    "def comb_filter(fs : int, data, tau : float, T60 : float, zi = None) -> tuple[np.array, np.array]:\n",
    "    N = int(np.round(tau * fs, 0))\n",
    "    a = np.zeros(N + 1)\n",
    "    a[[0, N]] = [1, 10 ** (-3 * tau / T60)]\n",
    "    b = [1.0]\n",
    "    \n",
    "    if zi is None: zi = np.zeros(lfilter_zi(b, a).size)\n",
    "        \n",
    "    return lfilter(b, a, data, zi = zi)"
   ]
  },
  {
   "cell_type": "code",
   "execution_count": null,
   "id": "89d08d56-bf79-4650-a884-d009e6fdded7",
   "metadata": {},
   "outputs": [],
   "source": [
    "p = pa.PyAudio()\n",
    "\n",
    "chunksize, tau, T60 = 1024, 70e-3, .5\n",
    "\n",
    "stream = p.open(channels = 1, format = pa.paFloat32, rate = fs, output = True)\n",
    "stream.start_stream()\n",
    "\n",
    "y_chunk = y[ : chunksize]\n",
    "y_filtered, zi = comb_filter(fs, y_chunk, tau, T60)\n",
    "y_filtered = tofloat32(y_filtered).tobytes()\n",
    "\n",
    "i = 1\n",
    "while len(y_filtered) > 0:\n",
    "    stream.write(y_filtered)\n",
    "    y_chunk = y[i * chunksize : (i + 1) * chunksize]\n",
    "    y_filtered, zi = comb_filter(fs, y_chunk, tau, T60, zi)\n",
    "    y_filtered = tofloat32(y_filtered).tobytes()\n",
    "    i += 1\n",
    "    \n",
    "stream.stop_stream()\n",
    "stream.close()\n",
    "p.terminate()"
   ]
  }
 ],
 "metadata": {
  "kernelspec": {
   "display_name": "Python 3",
   "language": "python",
   "name": "python3"
  },
  "language_info": {
   "codemirror_mode": {
    "name": "ipython",
    "version": 3
   },
   "file_extension": ".py",
   "mimetype": "text/x-python",
   "name": "python",
   "nbconvert_exporter": "python",
   "pygments_lexer": "ipython3",
   "version": "3.9.2"
  }
 },
 "nbformat": 4,
 "nbformat_minor": 5
}
