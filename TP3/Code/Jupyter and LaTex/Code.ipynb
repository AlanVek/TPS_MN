{
 "cells": [
  {
   "cell_type": "code",
   "execution_count": 14,
   "id": "be98124a-7719-42b1-8dc6-0e9938b9e905",
   "metadata": {},
   "outputs": [],
   "source": [
    "import numpy as np\n",
    "\n",
    "# Exponentiation by squaring\n",
    "def powerint(x : float, p : int) -> float:\n",
    "    if not x: return 0 if p > 0 else np.inf if p < 0 else 1\n",
    "    res, k, p = 1, x if p > 0 else 1/x, abs(p)\n",
    "    while p > 0:\n",
    "        if p%2: res *= k\n",
    "        k, p = k * k, p//2\n",
    "    return res\n",
    "\n",
    "# Para no usar np.sign\n",
    "def sign(x): return 0 if not x else -1 if x < 0 else 1"
   ]
  },
  {
   "cell_type": "code",
   "execution_count": 15,
   "id": "36c1f7af-40e1-4f37-9c26-2920564b4ce4",
   "metadata": {},
   "outputs": [],
   "source": [
    "def newt_raph_power(q, k, maxiter, x_ini, tol = 1e-15):\n",
    "    \"\"\" Solves x**q - k = 0 \"\"\"\n",
    "\n",
    "    for i in range(maxiter):\n",
    "        x_k1 = x_ini / q * (q - 1 + k * powerint(x_ini, -q))\n",
    "        if abs(x_k1 - x_ini) <= tol: return x_k1\n",
    "        x_ini = x_k1\n",
    "\n",
    "    return x_ini"
   ]
  },
  {
   "cell_type": "code",
   "execution_count": 16,
   "id": "93b04976-74f7-48eb-9510-4220010b20db",
   "metadata": {},
   "outputs": [],
   "source": [
    "def powerrat(x : float, p : int, q : int) -> float:\n",
    "    if not p: return 1\n",
    "    if not q: return np.inf if p > 0 else 0\n",
    "\n",
    "    newp, newq = abs(p), abs(q)\n",
    "\n",
    "    if newq == 1: return powerint(x, p * sign(q))\n",
    "    if newp == newq: return powerint(x, sign(p * q))\n",
    "    if x == 1: return 1\n",
    "\n",
    "\n",
    "    k = powerint(x, newp%newq)\n",
    "    k2 = powerint(x, newp//newq)\n",
    "\n",
    "    res = newt_raph_power(newq, k, 200, x) * k2\n",
    "    return powerint(res, sign(p * q))"
   ]
  },
  {
   "cell_type": "code",
   "execution_count": 17,
   "id": "0bfba239-591e-417c-8562-945694c2d104",
   "metadata": {},
   "outputs": [],
   "source": [
    "def test():\n",
    "    tot = 500\n",
    "    for i in range(tot):\n",
    "        x = np.random.randint(1, 50)\n",
    "        p = np.random.randint(-100, 100)\n",
    "        q = np.random.randint(1, 50) * (-1)**np.random.randint(0, 2)\n",
    "\n",
    "        real = x**(p/q)\n",
    "        calc = powerrat(x, p, q)\n",
    "        worked = abs(calc - real) / real <= 1e-3\n",
    "\n",
    "        if not worked:\n",
    "            print('Failed')\n",
    "            return\n",
    "\n",
    "    print('Worked')"
   ]
  }
 ],
 "metadata": {
  "kernelspec": {
   "display_name": "Python 3",
   "language": "python",
   "name": "python3"
  },
  "language_info": {
   "codemirror_mode": {
    "name": "ipython",
    "version": 3
   },
   "file_extension": ".py",
   "mimetype": "text/x-python",
   "name": "python",
   "nbconvert_exporter": "python",
   "pygments_lexer": "ipython3",
   "version": "3.9.2"
  }
 },
 "nbformat": 4,
 "nbformat_minor": 5
}
