{
 "cells": [
  {
   "cell_type": "code",
   "execution_count": 9,
   "id": "solar-source",
   "metadata": {},
   "outputs": [],
   "source": [
    "import numpy as np\n",
    "\n",
    "def cholesky(A : np.array) -> np.array:\n",
    "    h, w = A.shape\n",
    "    G = np.zeros((w, h))\n",
    "\n",
    "    if h == w:\n",
    "        if np.all(np.linalg.eig(A)[0] > 0):\n",
    "            for i in range(h):\n",
    "                G[i, i] = np.sqrt(A[i, i] -  G[i, :i].dot(G[i, :i]))\n",
    "                G[i+1:w, i] = (A[i, i+1:w] - G[i+1:w, :i].dot(G[i, :i])) / G[i, i]\n",
    "        else:\n",
    "            raise ValueError('Input error: Matrix must be positive semidefinite')\n",
    "    else:\n",
    "        raise ValueError('Input error: Matrix must be square')\n",
    "    return G"
   ]
  },
  {
   "cell_type": "code",
   "execution_count": 10,
   "id": "commercial-marketplace",
   "metadata": {},
   "outputs": [],
   "source": [
    "from scipy.linalg import lstsq\n",
    "\n",
    "def leastsq(A : np.array, b : np.array) -> np.array:\n",
    "    if len(b.shape) == 1 or not b.shape[1] == 1: \n",
    "        raise ValueError('Input error: Independent terms must be a column vector')\n",
    "        \n",
    "    elif A.shape[0] < A.shape[1]:\n",
    "        raise ValueError (\"Input error: Matrix can't be rank-deficient\")\n",
    "    \n",
    "    G = cholesky(A.T.dot(A))\n",
    "    w = solve_triangular(G, A.T.dot(b), lower=True)\n",
    "    return solve_triangular(G.T, w, lower=False)"
   ]
  },
  {
   "cell_type": "code",
   "execution_count": 11,
   "id": "macro-indianapolis",
   "metadata": {},
   "outputs": [],
   "source": [
    "def solve_triangular(G : np.array, y : np.array, lower = False) -> np.array:\n",
    "    h, w = G.shape\n",
    "    res = np.zeros((h, 1))\n",
    "\n",
    "    if h == w:\n",
    "        for i in np.arange(h)[::(-1) ** (not lower)]:\n",
    "            res[i] = (y[i] - np.dot(G[i], res)) / G[i, i]\n",
    "\n",
    "    return res"
   ]
  },
  {
   "cell_type": "code",
   "execution_count": 12,
   "id": "experimental-drive",
   "metadata": {},
   "outputs": [],
   "source": [
    "def test() -> None:\n",
    "\n",
    "    num_tests = 150\n",
    "\n",
    "    for i in range(num_tests):\n",
    "        h = np.random.randint(100, 200)\n",
    "        w = np.random.randint(2, 101)\n",
    "        \n",
    "        A = -100 + 200 * np.random.rand(h, w)\n",
    "        y = -100 + 200 * np.random.rand(h, 1)\n",
    "        \n",
    "        # Verificación con SciPy\n",
    "        x2 = lstsq(A, y)[0]\n",
    "\n",
    "        # Implementación\n",
    "        x1 = leastsq(A, y)\n",
    "\n",
    "        if not np.allclose(x1, x2):\n",
    "            print('Failed')\n",
    "            return\n",
    "\n",
    "    print('Ok!')"
   ]
  },
  {
   "cell_type": "code",
   "execution_count": 17,
   "id": "fitting-buying",
   "metadata": {},
   "outputs": [
    {
     "name": "stdout",
     "output_type": "stream",
     "text": [
      "Ok!\n"
     ]
    }
   ],
   "source": [
    "test()"
   ]
  }
 ],
 "metadata": {
  "kernelspec": {
   "display_name": "Python 3",
   "language": "python",
   "name": "python3"
  },
  "language_info": {
   "codemirror_mode": {
    "name": "ipython",
    "version": 3
   },
   "file_extension": ".py",
   "mimetype": "text/x-python",
   "name": "python",
   "nbconvert_exporter": "python",
   "pygments_lexer": "ipython3",
   "version": "3.9.2"
  }
 },
 "nbformat": 4,
 "nbformat_minor": 5
}
